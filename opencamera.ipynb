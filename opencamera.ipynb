{
 "cells": [
  {
   "cell_type": "code",
   "execution_count": null,
   "metadata": {},
   "outputs": [],
   "source": [
    "import cv2"
   ]
  },
  {
   "cell_type": "code",
   "execution_count": null,
   "metadata": {},
   "outputs": [],
   "source": [
    "cap = cv2.VideoCapture(0)#打开摄像头"
   ]
  },
  {
   "cell_type": "code",
   "execution_count": null,
   "metadata": {},
   "outputs": [],
   "source": [
    "while(1):\n",
    "    # get a frame\n",
    "    ret, frame = cap.read()\n",
    "    # show a frame\n",
    "    cv2.imshow(\"capture\", frame)\n",
    "    if cv2.waitKey(1) & 0xFF == ord('q'): #按q退出\n",
    "        break\n",
    "cap.release()\n",
    "cv2.destroyAllWindows() "
   ]
  },
  {
   "cell_type": "code",
   "execution_count": 1,
   "metadata": {},
   "outputs": [],
   "source": [
    "# %matplotlib notebook\n",
    "import cv2\n",
    "import matplotlib.pyplot as plt"
   ]
  },
  {
   "cell_type": "code",
   "execution_count": null,
   "metadata": {},
   "outputs": [],
   "source": []
  },
  {
   "cell_type": "code",
   "execution_count": 3,
   "metadata": {},
   "outputs": [
    {
     "ename": "SyntaxError",
     "evalue": "invalid syntax (<ipython-input-3-57570df3b08e>, line 20)",
     "output_type": "error",
     "traceback": [
      "\u001b[1;36m  File \u001b[1;32m\"<ipython-input-3-57570df3b08e>\"\u001b[1;36m, line \u001b[1;32m20\u001b[0m\n\u001b[1;33m    plt.pause(0.05)a\u001b[0m\n\u001b[1;37m                   ^\u001b[0m\n\u001b[1;31mSyntaxError\u001b[0m\u001b[1;31m:\u001b[0m invalid syntax\n"
     ]
    }
   ],
   "source": [
    "vc = cv2.VideoCapture(0)\n",
    "\n",
    "plt.ion()\n",
    "\n",
    "if vc.isOpened(): # try to get the first frame\n",
    "    is_capturing, frame = vc.read()\n",
    "    frame = cv2.cvtColor(frame, cv2.COLOR_BGR2RGB)    # makes the blues image look real colored\n",
    "    webcam_preview = plt.imshow(frame)    \n",
    "else:\n",
    "    is_capturing = False\n",
    "\n",
    "while is_capturing:\n",
    "    try:    # Lookout for a keyboardInterrupt to stop the script\n",
    "        is_capturing, frame = vc.read()\n",
    "        frame = cv2.cvtColor(frame, cv2.COLOR_BGR2RGB)    # makes the blues image look real colored\n",
    "        webcam_preview.set_data(frame)\n",
    "        plt.draw()\n",
    "\n",
    "        try:    # Avoids a NotImplementedError caused by `plt.pause`\n",
    "            plt.pause(0.05)a\n",
    "        except Exception:\n",
    "            pass\n",
    "    except KeyboardInterrupt:\n",
    "        vc.release()"
   ]
  },
  {
   "cell_type": "code",
   "execution_count": null,
   "metadata": {},
   "outputs": [],
   "source": [
    "# import cv2\n",
    "# #基本绘图\n",
    "# # import numpy\n",
    "# #\n",
    "# cv2.namedWindow(\"Image\") #创建窗口\n",
    "# #抓取摄像头视频图像\n",
    "# cap = cv2.VideoCapture(0)  #创建内置摄像头变量\n",
    " \n",
    "# while(cap.isOpened()):  #isOpened()  检测摄像头是否处于打开状态\n",
    "#     ret,img = cap.read()  #把摄像头获取的图像信息保存之img变量\n",
    "#     if ret == True:       #如果摄像头读取图像成功\n",
    "#         cv2.imshow('Image',img)\n",
    "#         k = cv2.waitKey(100)\n",
    "#         if k == ord('a') or k == ord('A'):\n",
    "#             cv2.imwrite('test.jpg',img)\n",
    "#             break\n",
    "# cap.release()  #关闭摄像头\n",
    "# cv2.waitKey(0)\n",
    "# cv2.destroyAllWindow()"
   ]
  },
  {
   "cell_type": "code",
   "execution_count": null,
   "metadata": {},
   "outputs": [],
   "source": [
    "\n",
    "# import cv2 as cv\n",
    "\n",
    "# def video_demo():\n",
    "\n",
    "# #0是代表摄像头编号，只有一个的话默认为0\n",
    "\n",
    "#     capture=cv.VideoCapture(0) \n",
    "\n",
    "#     while(True):\n",
    "\n",
    "#         ref,frame=capture.read()\n",
    "\n",
    " \n",
    "\n",
    "#         cv.imshow(\"1\",frame)\n",
    "\n",
    "# #等待30ms显示图像，若过程中按“Esc”退出\n",
    "\n",
    "#         c= cv.waitKey(30) & 0xff \n",
    "\n",
    "#         if c==27:\n",
    "\n",
    "#             capture.release()\n",
    "\n",
    "#             break\n",
    "\n",
    "            \n",
    "\n",
    "# video_demo()\n",
    "\n",
    "# cv.waitKey()\n",
    "\n",
    "# cv.destroyAllWindows()\n"
   ]
  },
  {
   "cell_type": "code",
   "execution_count": null,
   "metadata": {},
   "outputs": [],
   "source": []
  }
 ],
 "metadata": {
  "kernelspec": {
   "display_name": "Python 3",
   "language": "python",
   "name": "python3"
  },
  "language_info": {
   "codemirror_mode": {
    "name": "ipython",
    "version": 3
   },
   "file_extension": ".py",
   "mimetype": "text/x-python",
   "name": "python",
   "nbconvert_exporter": "python",
   "pygments_lexer": "ipython3",
   "version": "3.6.5"
  }
 },
 "nbformat": 4,
 "nbformat_minor": 2
}
